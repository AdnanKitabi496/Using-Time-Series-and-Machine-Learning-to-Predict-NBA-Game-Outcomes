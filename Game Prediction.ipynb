{
 "cells": [
  {
   "cell_type": "code",
   "execution_count": 28,
   "metadata": {},
   "outputs": [],
   "source": [
    "import matplotlib.pyplot as plt\n",
    "import pandas as pd\n",
    "import numpy as np\n",
    "from sklearn.preprocessing import MinMaxScaler\n",
    "from sklearn.model_selection import train_test_split\n",
    "from sklearn.feature_selection import RFE\n",
    "from sklearn.linear_model import LogisticRegression\n",
    "from sklearn.metrics import classification_report, confusion_matrix\n",
    "from sklearn.ensemble import RandomForestClassifier\n",
    "from xgboost import XGBClassifier"
   ]
  },
  {
   "cell_type": "code",
   "execution_count": 29,
   "metadata": {},
   "outputs": [],
   "source": [
    "consolidated= pd.read_csv('Database.csv')\n",
    "test= pd.read_csv('test.csv')\n",
    "\n",
    "consolidated['teamFTR'] = consolidated['teamFTA'] / consolidated['teamFGA']\n",
    "consolidated['opptFTR'] = consolidated['opptFTA'] / consolidated['opptFGA']\n",
    "\n",
    "test['teamFTR'] = test['teamFTA'] / test['teamFGA']\n",
    "test['opptFTR'] = test['opptFTA'] / test['opptFGA']\n",
    "consolidated= consolidated.drop(['teamFTA', 'teamFGA', 'opptFTA', 'opptFGA'], axis=1)\n",
    "test= test.drop(['teamFTA', 'teamFGA', 'opptFTA', 'opptFGA'], axis=1)\n",
    "\n",
    "consolidated = pd.get_dummies(data = consolidated, columns = ['teamRslt'])\n",
    "consolidated= consolidated.drop(['teamRslt_Loss'], axis=1)\n",
    "consolidated_scaled= consolidated.drop(columns=['teamAbbr'])\n",
    "\n",
    "scaler = MinMaxScaler()\n",
    " \n",
    "consolidated_scaled = scaler.fit_transform(consolidated_scaled.to_numpy())\n",
    "consolidated_scaled = pd.DataFrame(consolidated_scaled, columns=['teamEFG%', 'teamTO%', 'teamOREB%', 'opptEFG%', \\\n",
    "            'opptTO%', 'opptOREB%', 'teamFTR', 'opptFTR', 'teamRslt_Win'])\n",
    "\n",
    "test = scaler.fit_transform(test.to_numpy())\n",
    "test = pd.DataFrame(test, columns=['teamEFG%', 'teamTO%', 'teamOREB%', 'opptEFG%', \\\n",
    "            'opptTO%', 'opptOREB%', 'teamFTR', 'opptFTR'])\n",
    "\n",
    "X = consolidated_scaled.drop(columns=['teamRslt_Win'])\n",
    "y = consolidated_scaled['teamRslt_Win']\n",
    "\n",
    "X_train, X_test, y_train, y_test = train_test_split(X, y, test_size=0.1, random_state=1)"
   ]
  },
  {
   "cell_type": "code",
   "execution_count": 30,
   "metadata": {},
   "outputs": [
    {
     "name": "stdout",
     "output_type": "stream",
     "text": [
      "Logistic Regression train: 0.9058597502401537\n",
      "Logistic Regression test: 0.9310344827586207\n",
      "Random Forest train: 1.0\n",
      "Random Forest test: 0.9181034482758621\n",
      "XG Boost train: 1.0\n",
      "XG Boost test: 0.9439655172413793\n"
     ]
    }
   ],
   "source": [
    "clf = LogisticRegression(C =0.1, solver= 'liblinear',random_state=42)\n",
    "clf.fit(X_train,y_train)\n",
    "print(\"Logistic Regression train: \" + str(clf.score(X_train, y_train)))\n",
    "\n",
    "LogisticRegression= clf.predict(X_test)\n",
    "print(\"Logistic Regression test: \" + str(clf.score(X_test, y_test)))\n",
    "\n",
    "rf = RandomForestClassifier(n_estimators = 1000, random_state = 42)\n",
    "rf.fit(X_train,y_train)\n",
    "print(\"Random Forest train: \" + str(rf.score(X_train, y_train)))\n",
    "\n",
    "RandomForest= rf.predict(X_test)\n",
    "print(\"Random Forest test: \" + str(rf.score(X_test, y_test)))\n",
    "\n",
    "xgb = XGBClassifier(random_state = 42)\n",
    "xgb.fit(X_train, y_train)\n",
    "print(\"XG Boost train: \" + str(xgb.score(X_train, y_train)))\n",
    "\n",
    "XGBoost = xgb.predict(X_test)\n",
    "print(\"XG Boost test: \" + str(xgb.score(X_test, y_test)))"
   ]
  },
  {
   "cell_type": "code",
   "execution_count": 31,
   "metadata": {},
   "outputs": [
    {
     "data": {
      "image/png": "[encoded data removed]",
      "text/plain": [
       "<Figure size 576x576 with 1 Axes>"
      ]
     },
     "metadata": {
      "needs_background": "light"
     },
     "output_type": "display_data"
    },
    {
     "data": {
      "image/png": "[encoded data removed]",
      "text/plain": [
       "<Figure size 576x576 with 1 Axes>"
      ]
     },
     "metadata": {
      "needs_background": "light"
     },
     "output_type": "display_data"
    },
    {
     "data": {
      "image/png": "[encoded data removed]",
      "text/plain": [
       "<Figure size 576x576 with 1 Axes>"
      ]
     },
     "metadata": {
      "needs_background": "light"
     },
     "output_type": "display_data"
    }
   ],
   "source": [
    "model= [LogisticRegression, RandomForest, XGBoost]\n",
    "title= ['Logistic Regression', 'Random Forest', 'XG-Boost']\n",
    "\n",
    "for (m,t) in zip(model, title):\n",
    "    cm = confusion_matrix(y_test, m)\n",
    "\n",
    "    fig, ax = plt.subplots(figsize=(8, 8))\n",
    "    ax.imshow(cm)\n",
    "    ax.grid(False)\n",
    "    ax.xaxis.set(ticks=(0, 1), ticklabels=('Predicted 0s', 'Predicted 1s'))\n",
    "    ax.yaxis.set(ticks=(0, 1), ticklabels=('Actual 0s', 'Actual 1s'))\n",
    "    ax.set_ylim(1.5, -0.5)\n",
    "    for i in range(2):\n",
    "        for j in range(2):\n",
    "            ax.text(j, i, cm[i, j], ha='center', va='center', color='red')\n",
    "    plt.title(t)\n",
    "    plt.show()"
   ]
  },
  {
   "cell_type": "code",
   "execution_count": 32,
   "metadata": {},
   "outputs": [
    {
     "name": "stdout",
     "output_type": "stream",
     "text": [
      "Logistic Regression: [0.006608226611623688, 0.9919811425628551]\n",
      "Random Forest: [0.298, 0.725]\n",
      "XGBoost: [0.0053379745, 0.9997943]\n"
     ]
    }
   ],
   "source": [
    "def Extract(lst):\n",
    "    return [item[1] for item in lst]\n",
    "\n",
    "clf.fit(X,y)\n",
    "\n",
    "log_pred= clf.predict_proba(test)\n",
    "print('Logistic Regression: ' + str(Extract(log_pred)))\n",
    "\n",
    "rf.fit(X,y)\n",
    "\n",
    "rf_pred= rf.predict_proba(test)\n",
    "print('Random Forest: ' + str(Extract(rf_pred)))\n",
    "\n",
    "xgb.fit(X, y)\n",
    "\n",
    "xgb_pred = xgb.predict_proba(test)\n",
    "print('XGBoost: ' + str(Extract(xgb_pred)))"
   ]
  },
  {
   "cell_type": "code",
   "execution_count": null,
   "metadata": {},
   "outputs": [],
   "source": []
  }
 ],
 "metadata": {
  "kernelspec": {
   "display_name": "Python 3 (ipykernel)",
   "language": "python",
   "name": "python3"
  },
  "language_info": {
   "codemirror_mode": {
    "name": "ipython",
    "version": 3
   },
   "file_extension": ".py",
   "mimetype": "text/x-python",
   "name": "python",
   "nbconvert_exporter": "python",
   "pygments_lexer": "ipython3",
   "version": "3.11.3"
  }
 },
 "nbformat": 4,
 "nbformat_minor": 4
}
